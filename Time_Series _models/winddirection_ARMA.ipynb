{
 "cells": [
  {
   "cell_type": "code",
   "execution_count": null,
   "metadata": {},
   "outputs": [],
   "source": [
    "from pyspark.sql import SparkSession\n",
    "from pyspark.sql.functions import col\n",
    "from pyspark.sql.types import TimestampType\n",
    "from pyspark.ml.feature import VectorAssembler\n",
    "from statsmodels.tsa.arima_model import ARMA\n",
    "import numpy as np\n",
    "\n",
    "# Initialize SparkSession\n",
    "spark = SparkSession.builder \\\n",
    "    .appName(\"TimeSeriesForecasting\") \\\n",
    "    .getOrCreate()"
   ]
  },
  {
   "cell_type": "code",
   "execution_count": null,
   "metadata": {},
   "outputs": [],
   "source": [
    "# Load data into a Spark DataFrame\n",
    "df = spark.read.csv('T1.csv', header=True, inferSchema=True)\n",
    "\n",
    "# Select relevant columns and rename them\n",
    "dataset = df.select(\"Date/Time\", \"Wind Direction (°)\") \\\n",
    "            .withColumnRenamed(\"Date/Time\", \"timeStamp\") \\\n",
    "            .withColumnRenamed(\"Wind Direction (°)\", \"windDirection\")"
   ]
  },
  {
   "cell_type": "code",
   "execution_count": null,
   "metadata": {},
   "outputs": [],
   "source": [
    "# Convert timeStamp to timestamp type\n",
    "dataset = dataset.withColumn(\"timeStamp\", col(\"timeStamp\").cast(TimestampType()))"
   ]
  },
  {
   "cell_type": "code",
   "execution_count": null,
   "metadata": {},
   "outputs": [],
   "source": [
    "# Train ARMA model\n",
    "data = np.array(dataset.select(\"windDirection\").collect()).flatten()\n",
    "model = ARMA(data, order=(3, 3))\n",
    "results_MA = model.fit()"
   ]
  },
  {
   "cell_type": "code",
   "execution_count": null,
   "metadata": {},
   "outputs": [],
   "source": [
    "# Plot the time series data\n",
    "import matplotlib.pyplot as plt\n",
    "plt.plot(data)\n",
    "plt.plot(results_MA.fittedvalues, color='red')\n",
    "plt.title('Fitting data _ MSE: %.2f'% (((results_MA.fittedvalues-data)**2).mean()))\n",
    "plt.show()"
   ]
  },
  {
   "cell_type": "code",
   "execution_count": null,
   "metadata": {},
   "outputs": [],
   "source": [
    "# Forecasting\n",
    "forecast = results_MA.predict(len(data), len(data)+24)\n",
    "\n",
    "# Save the model\n",
    "results_MA.save(\"wind_direction_arma_model\")\n",
    "\n",
    "# Stop SparkSession\n",
    "spark.stop()"
   ]
  }
 ],
 "metadata": {
  "language_info": {
   "name": "python"
  }
 },
 "nbformat": 4,
 "nbformat_minor": 2
}
