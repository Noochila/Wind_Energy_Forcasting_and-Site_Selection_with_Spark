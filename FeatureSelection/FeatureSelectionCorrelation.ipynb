{
 "cells": [
  {
   "cell_type": "code",
   "execution_count": 1,
   "id": "749cab00",
   "metadata": {},
   "outputs": [],
   "source": [
    "import pandas as pd"
   ]
  },
  {
   "cell_type": "code",
   "execution_count": 2,
   "id": "b4287b3d",
   "metadata": {},
   "outputs": [],
   "source": [
    "# Load your CSV file\n",
    "df = pd.read_excel('../Dataset/FeatureSelection.xlsx')"
   ]
  },
  {
   "cell_type": "code",
   "execution_count": 3,
   "id": "2f1fc450",
   "metadata": {},
   "outputs": [
    {
     "data": {
      "text/html": [
       "<div>\n",
       "<style scoped>\n",
       "    .dataframe tbody tr th:only-of-type {\n",
       "        vertical-align: middle;\n",
       "    }\n",
       "\n",
       "    .dataframe tbody tr th {\n",
       "        vertical-align: top;\n",
       "    }\n",
       "\n",
       "    .dataframe thead th {\n",
       "        text-align: right;\n",
       "    }\n",
       "</style>\n",
       "<table border=\"1\" class=\"dataframe\">\n",
       "  <thead>\n",
       "    <tr style=\"text-align: right;\">\n",
       "      <th></th>\n",
       "      <th>YEAR</th>\n",
       "      <th>MO</th>\n",
       "      <th>DY</th>\n",
       "      <th>HR</th>\n",
       "      <th>QV2M</th>\n",
       "      <th>RH2M</th>\n",
       "      <th>PRECTOTCORR</th>\n",
       "      <th>PS</th>\n",
       "      <th>WS50M</th>\n",
       "      <th>WD50M</th>\n",
       "      <th>LV ActivePower (kW)</th>\n",
       "      <th>Theoretical_Power_Curve (KWh)</th>\n",
       "    </tr>\n",
       "  </thead>\n",
       "  <tbody>\n",
       "    <tr>\n",
       "      <th>0</th>\n",
       "      <td>2018</td>\n",
       "      <td>1</td>\n",
       "      <td>1</td>\n",
       "      <td>0</td>\n",
       "      <td>4.64</td>\n",
       "      <td>100.0</td>\n",
       "      <td>0.0</td>\n",
       "      <td>98.82</td>\n",
       "      <td>5.39</td>\n",
       "      <td>7.50</td>\n",
       "      <td>380.047791</td>\n",
       "      <td>416.328908</td>\n",
       "    </tr>\n",
       "    <tr>\n",
       "      <th>1</th>\n",
       "      <td>2018</td>\n",
       "      <td>1</td>\n",
       "      <td>1</td>\n",
       "      <td>1</td>\n",
       "      <td>4.52</td>\n",
       "      <td>100.0</td>\n",
       "      <td>0.0</td>\n",
       "      <td>98.84</td>\n",
       "      <td>5.10</td>\n",
       "      <td>11.12</td>\n",
       "      <td>447.605713</td>\n",
       "      <td>557.372363</td>\n",
       "    </tr>\n",
       "    <tr>\n",
       "      <th>2</th>\n",
       "      <td>2018</td>\n",
       "      <td>1</td>\n",
       "      <td>1</td>\n",
       "      <td>1</td>\n",
       "      <td>4.52</td>\n",
       "      <td>100.0</td>\n",
       "      <td>0.0</td>\n",
       "      <td>98.84</td>\n",
       "      <td>5.10</td>\n",
       "      <td>11.12</td>\n",
       "      <td>881.062073</td>\n",
       "      <td>872.739626</td>\n",
       "    </tr>\n",
       "    <tr>\n",
       "      <th>3</th>\n",
       "      <td>2018</td>\n",
       "      <td>1</td>\n",
       "      <td>1</td>\n",
       "      <td>2</td>\n",
       "      <td>4.39</td>\n",
       "      <td>100.0</td>\n",
       "      <td>0.0</td>\n",
       "      <td>98.84</td>\n",
       "      <td>4.62</td>\n",
       "      <td>14.48</td>\n",
       "      <td>710.587280</td>\n",
       "      <td>824.662514</td>\n",
       "    </tr>\n",
       "    <tr>\n",
       "      <th>4</th>\n",
       "      <td>2018</td>\n",
       "      <td>1</td>\n",
       "      <td>1</td>\n",
       "      <td>2</td>\n",
       "      <td>4.39</td>\n",
       "      <td>100.0</td>\n",
       "      <td>0.0</td>\n",
       "      <td>98.84</td>\n",
       "      <td>4.62</td>\n",
       "      <td>14.48</td>\n",
       "      <td>3209.018066</td>\n",
       "      <td>3386.244486</td>\n",
       "    </tr>\n",
       "  </tbody>\n",
       "</table>\n",
       "</div>"
      ],
      "text/plain": [
       "   YEAR  MO  DY  HR  QV2M   RH2M  PRECTOTCORR     PS  WS50M  WD50M  \\\n",
       "0  2018   1   1   0  4.64  100.0          0.0  98.82   5.39   7.50   \n",
       "1  2018   1   1   1  4.52  100.0          0.0  98.84   5.10  11.12   \n",
       "2  2018   1   1   1  4.52  100.0          0.0  98.84   5.10  11.12   \n",
       "3  2018   1   1   2  4.39  100.0          0.0  98.84   4.62  14.48   \n",
       "4  2018   1   1   2  4.39  100.0          0.0  98.84   4.62  14.48   \n",
       "\n",
       "   LV ActivePower (kW)  Theoretical_Power_Curve (KWh)  \n",
       "0           380.047791                     416.328908  \n",
       "1           447.605713                     557.372363  \n",
       "2           881.062073                     872.739626  \n",
       "3           710.587280                     824.662514  \n",
       "4          3209.018066                    3386.244486  "
      ]
     },
     "execution_count": 3,
     "metadata": {},
     "output_type": "execute_result"
    }
   ],
   "source": [
    "df.head()"
   ]
  },
  {
   "cell_type": "code",
   "execution_count": 4,
   "id": "5b7c2bba",
   "metadata": {},
   "outputs": [],
   "source": [
    "df = df.replace(0, df.mean()) "
   ]
  },
  {
   "cell_type": "code",
   "execution_count": 5,
   "id": "34f7d81d",
   "metadata": {},
   "outputs": [
    {
     "data": {
      "text/plain": [
       "YEAR                                0\n",
       "MO                                  0\n",
       "DY                                  0\n",
       "HR                                  0\n",
       "QV2M                                0\n",
       "RH2M                                0\n",
       "PRECTOTCORR                         0\n",
       "PS                                  0\n",
       "WS50M                               0\n",
       "WD50M                               0\n",
       "LV ActivePower (kW)              1034\n",
       "Theoretical_Power_Curve (KWh)    1034\n",
       "dtype: int64"
      ]
     },
     "execution_count": 5,
     "metadata": {},
     "output_type": "execute_result"
    }
   ],
   "source": [
    "df.isnull().sum()"
   ]
  },
  {
   "cell_type": "code",
   "execution_count": 6,
   "id": "1b3af064",
   "metadata": {},
   "outputs": [],
   "source": [
    "df=df.fillna(df.mean())"
   ]
  },
  {
   "cell_type": "code",
   "execution_count": 7,
   "id": "32694c7b",
   "metadata": {},
   "outputs": [
    {
     "data": {
      "text/plain": [
       "YEAR                             0\n",
       "MO                               0\n",
       "DY                               0\n",
       "HR                               0\n",
       "QV2M                             0\n",
       "RH2M                             0\n",
       "PRECTOTCORR                      0\n",
       "PS                               0\n",
       "WS50M                            0\n",
       "WD50M                            0\n",
       "LV ActivePower (kW)              0\n",
       "Theoretical_Power_Curve (KWh)    0\n",
       "dtype: int64"
      ]
     },
     "execution_count": 7,
     "metadata": {},
     "output_type": "execute_result"
    }
   ],
   "source": [
    "df.isnull().sum()"
   ]
  },
  {
   "cell_type": "code",
   "execution_count": 26,
   "id": "1538a717",
   "metadata": {},
   "outputs": [
    {
     "data": {
      "text/plain": [
       "(9456, 12)"
      ]
     },
     "execution_count": 26,
     "metadata": {},
     "output_type": "execute_result"
    }
   ],
   "source": [
    "df.shape"
   ]
  },
  {
   "cell_type": "code",
   "execution_count": 8,
   "id": "43a9dbc2",
   "metadata": {},
   "outputs": [],
   "source": [
    "correlation_matrix = df.corr()"
   ]
  },
  {
   "cell_type": "code",
   "execution_count": 9,
   "id": "05ef23db",
   "metadata": {},
   "outputs": [],
   "source": [
    "# Select the features with the highest absolute correlation with the target variable\n",
    "target_variable = 'LV ActivePower (kW)'\n",
    "selected_features = correlation_matrix.loc[correlation_matrix.index != target_variable, target_variable].abs().sort_values(ascending=False).index"
   ]
  },
  {
   "cell_type": "code",
   "execution_count": 10,
   "id": "bf8444e0",
   "metadata": {},
   "outputs": [
    {
     "name": "stdout",
     "output_type": "stream",
     "text": [
      "Selected Features:\n",
      "Index(['Theoretical_Power_Curve (KWh)', 'WS50M', 'RH2M', 'WD50M', 'QV2M', 'PS',\n",
      "       'PRECTOTCORR', 'HR', 'MO', 'DY', 'YEAR'],\n",
      "      dtype='object')\n"
     ]
    }
   ],
   "source": [
    "print(\"Selected Features:\")\n",
    "print(selected_features)"
   ]
  }
 ],
 "metadata": {
  "kernelspec": {
   "display_name": "Python 3 (ipykernel)",
   "language": "python",
   "name": "python3"
  },
  "language_info": {
   "codemirror_mode": {
    "name": "ipython",
    "version": 3
   },
   "file_extension": ".py",
   "mimetype": "text/x-python",
   "name": "python",
   "nbconvert_exporter": "python",
   "pygments_lexer": "ipython3",
   "version": "3.11.5"
  }
 },
 "nbformat": 4,
 "nbformat_minor": 5
}
