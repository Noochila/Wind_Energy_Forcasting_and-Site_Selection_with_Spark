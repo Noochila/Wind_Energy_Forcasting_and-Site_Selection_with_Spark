{
  "nbformat": 4,
  "nbformat_minor": 0,
  "metadata": {
    "colab": {
      "provenance": []
    },
    "kernelspec": {
      "name": "python3",
      "display_name": "Python 3"
    },
    "accelerator": "GPU"
  },
  "cells": [
    {
      "cell_type": "code",
      "metadata": {
        "id": "4kD0OTy7W2Wl"
      },
      "source": [
        "import numpy as np\n",
        "import pandas as pd\n",
        "import matplotlib.pyplot as plt\n",
        "import seaborn as sns\n"
      ],
      "execution_count": null,
      "outputs": []
    },
    {
      "cell_type": "code",
      "source": [
        "from google.colab import drive\n",
        "drive.mount('/content/drive')"
      ],
      "metadata": {
        "id": "nIS8oTDXK60z",
        "outputId": "e1015b68-ac4e-4804-a3d8-cfb9e4e3af58",
        "colab": {
          "base_uri": "https://localhost:8080/"
        }
      },
      "execution_count": null,
      "outputs": [
        {
          "output_type": "stream",
          "name": "stdout",
          "text": [
            "Drive already mounted at /content/drive; to attempt to forcibly remount, call drive.mount(\"/content/drive\", force_remount=True).\n"
          ]
        }
      ]
    },
    {
      "cell_type": "code",
      "metadata": {
        "id": "DLXGyQxgxWNj",
        "colab": {
          "base_uri": "https://localhost:8080/"
        },
        "outputId": "20f87269-90a8-4476-940f-b9440010773d"
      },
      "source": [
        "df=pd.read_csv('/content/drive/My Drive/T1.csv')\n",
        "print(df.columns)\n"
      ],
      "execution_count": null,
      "outputs": [
        {
          "output_type": "stream",
          "name": "stdout",
          "text": [
            "Index(['Date/Time', 'LV ActivePower (kW)', 'Wind Speed (m/s)',\n",
            "       'Theoretical_Power_Curve (KWh)', 'Wind Direction (°)'],\n",
            "      dtype='object')\n"
          ]
        }
      ]
    },
    {
      "cell_type": "code",
      "metadata": {
        "id": "3ZpYHryyx7In"
      },
      "source": [
        "df.drop(columns=['Date/Time','Theoretical_Power_Curve (KWh)'], inplace=True)\n",
        "y = df['LV ActivePower (kW)']\n",
        "df.drop(columns=['LV ActivePower (kW)'],axis=1,inplace=True)\n"
      ],
      "execution_count": null,
      "outputs": []
    },
    {
      "cell_type": "code",
      "metadata": {
        "id": "5gS9NUaPkiHM"
      },
      "source": [
        "df['Wind Direction (°)']=(df['Wind Direction (°)']-df['Wind Direction (°)'].mean())/(df['Wind Direction (°)'].std())\n",
        "df['Wind Speed (m/s)']=(df['Wind Speed (m/s)']-df['Wind Speed (m/s)'].mean())/(df['Wind Speed (m/s)'].std())"
      ],
      "execution_count": null,
      "outputs": []
    },
    {
      "cell_type": "code",
      "metadata": {
        "id": "x993RDqYx7Qr"
      },
      "source": [
        "y_train=y[:42283]\n",
        "y_test=y[42283:]\n",
        "X_train=df.iloc[:42283]\n",
        "X_test=df.iloc[42283:]"
      ],
      "execution_count": null,
      "outputs": []
    },
    {
      "cell_type": "code",
      "metadata": {
        "id": "gnbiP24Qx7Kt",
        "colab": {
          "base_uri": "https://localhost:8080/"
        },
        "outputId": "1d760e05-cefc-4da0-f04c-eb642a96c0df"
      },
      "source": [
        "from sklearn.tree import DecisionTreeRegressor\n",
        "from sklearn.svm import SVR\n",
        "from sklearn.linear_model import LinearRegression\n",
        "from sklearn.ensemble import RandomForestRegressor\n",
        "from xgboost import XGBRegressor\n",
        "from sklearn.metrics import r2_score, mean_squared_error\n",
        "import numpy as np\n",
        "\n",
        "# Define models\n",
        "xgr = XGBRegressor()\n",
        "rf = RandomForestRegressor()\n",
        "lr = LinearRegression()\n",
        "dt = DecisionTreeRegressor()\n",
        "sm = SVR()\n",
        "\n",
        "# Fit models and make predictions\n",
        "models = {'XGBoost': xgr, 'Random Forest': rf, 'Linear Regression': lr, 'Decision Tree': dt, 'SVR': sm}\n",
        "predictions = {}\n",
        "\n",
        "for name, model in models.items():\n",
        "    model.fit(X_train, y_train)\n",
        "    y_pred = model.predict(X_test)\n",
        "    predictions[name] = y_pred\n",
        "    r2 = r2_score(y_test, y_pred)\n",
        "    rmse = np.sqrt(mean_squared_error(y_test, y_pred))\n",
        "    print(f'R2-{name}: {r2}')\n",
        "    print(f'RMSE-{name}: {rmse}')\n",
        "\n",
        "# Example: Accessing predictions\n",
        "#print(predictions['XGBoost'])\n"
      ],
      "execution_count": null,
      "outputs": [
        {
          "output_type": "stream",
          "name": "stdout",
          "text": [
            "R2-XGBoost: 0.8378748583617237\n",
            "RMSE-XGBoost: 552.9701440954856\n",
            "R2-Random Forest: 0.8193920731314233\n",
            "RMSE-Random Forest: 583.6398041838653\n",
            "R2-Linear Regression: 0.8184357809853167\n",
            "RMSE-Linear Regression: 585.1829072911474\n",
            "R2-Decision Tree: 0.7203075302511192\n",
            "RMSE-Decision Tree: 726.3014082694837\n",
            "R2-SVR: 0.8891384161563985\n",
            "RMSE-SVR: 457.26402913237996\n"
          ]
        }
      ]
    },
    {
      "cell_type": "code",
      "metadata": {
        "id": "H8ypzZ6g4N_D"
      },
      "source": [
        "params={\n",
        " \"learning_rate\"    : [0.05, 0.01,0.03,0.1, 0.15, 0.2] ,\n",
        " \"n_estimators\"     : [50, 100, 150, 200, 500, 800,1000,1500] ,\n",
        " \"max_depth\"        : [ 3, 4, 5, 6, 8, 10, 12, 15,20,25],\n",
        " \"min_child_weight\" : [ 1, 3, 5, 7 ,10,15,20,25],\n",
        " \"gamma\"            : [ 0.0, 0.1, 0.2 , 0.3, 0.4 ],\n",
        " \"subsample\"        : [ 0.1, 0.2 , 0.3, 0.4,0.6,0.8,1 ],\n",
        " \"reg_lambda\"       : [ 0.0, 0.1, 0.2 , 0.3, 0.4 ,0.6,0.8,1],\n",
        " \"reg_alpha\"        : [ 0.0, 0.1, 0.2 , 0.3, 0.4 ],\n",
        " \"colsample_bytree\" : [ 0.3, 0.4, 0.5 , 0.7,0.9 ],\n",
        " \"colsample_bylevel\" : [ 0.3, 0.4, 0.5 , 0.7,0.9 ]\n",
        "\n",
        "}"
      ],
      "execution_count": null,
      "outputs": []
    },
    {
      "cell_type": "code",
      "metadata": {
        "id": "B4eaSqNG4OOY"
      },
      "source": [
        "from sklearn.model_selection import RandomizedSearchCV, GridSearchCV"
      ],
      "execution_count": null,
      "outputs": []
    },
    {
      "cell_type": "code",
      "metadata": {
        "id": "oPh2KEv84OP4"
      },
      "source": [
        "from datetime import datetime\n",
        "\n",
        "def timer(start_time=None):\n",
        "    if not start_time:\n",
        "        start_time = datetime.now()\n",
        "    else:\n",
        "        thour, temp_sec = divmod((datetime.now() - start_time).total_seconds(), 3600)\n",
        "        tmin, tsec = divmod(temp_sec, 60)\n",
        "        print('\\n Time taken: %i hours %i minutes and %s seconds.' % (thour, tmin, round(tsec, 2)))\n"
      ],
      "execution_count": null,
      "outputs": []
    },
    {
      "cell_type": "code",
      "metadata": {
        "id": "xocMCTrYjusm",
        "colab": {
          "base_uri": "https://localhost:8080/"
        },
        "outputId": "1dd0d195-4671-4e10-89c9-26278595e3be"
      },
      "source": [
        "random_search = RandomizedSearchCV(xgr, param_distributions=params, n_iter=10, n_jobs=-1, cv=5, verbose=3)\n",
        "\n",
        "# Start timing\n",
        "start_time = datetime.now()\n",
        "\n",
        "# Fit RandomizedSearchCV on training data\n",
        "random_search.fit(X_train, y_train)\n",
        "\n",
        "# End timing\n",
        "print('Elapsed time:', datetime.now() - start_time)\n",
        "\n",
        "# Print best parameters found\n",
        "print('Best parameters:', random_search.best_params_)\n"
      ],
      "execution_count": null,
      "outputs": [
        {
          "output_type": "stream",
          "name": "stdout",
          "text": [
            "Fitting 5 folds for each of 10 candidates, totalling 50 fits\n",
            "Elapsed time: 0:00:47.704959\n",
            "Best parameters: {'subsample': 0.6, 'reg_lambda': 0.0, 'reg_alpha': 0.0, 'n_estimators': 150, 'min_child_weight': 1, 'max_depth': 4, 'learning_rate': 0.15, 'gamma': 0.4, 'colsample_bytree': 0.5, 'colsample_bylevel': 0.4}\n"
          ]
        }
      ]
    },
    {
      "cell_type": "code",
      "metadata": {
        "id": "WjRwsoffkEuw",
        "colab": {
          "base_uri": "https://localhost:8080/",
          "height": 230
        },
        "outputId": "cf025ee2-6a25-44a5-bd5f-b132221e970f"
      },
      "source": [
        "random_search.best_estimator_"
      ],
      "execution_count": null,
      "outputs": [
        {
          "output_type": "execute_result",
          "data": {
            "text/plain": [
              "XGBRegressor(base_score=None, booster=None, callbacks=None,\n",
              "             colsample_bylevel=0.4, colsample_bynode=None, colsample_bytree=0.5,\n",
              "             device=None, early_stopping_rounds=None, enable_categorical=False,\n",
              "             eval_metric=None, feature_types=None, gamma=0.4, grow_policy=None,\n",
              "             importance_type=None, interaction_constraints=None,\n",
              "             learning_rate=0.15, max_bin=None, max_cat_threshold=None,\n",
              "             max_cat_to_onehot=None, max_delta_step=None, max_depth=4,\n",
              "             max_leaves=None, min_child_weight=1, missing=nan,\n",
              "             monotone_constraints=None, multi_strategy=None, n_estimators=150,\n",
              "             n_jobs=None, num_parallel_tree=None, random_state=None, ...)"
            ],
            "text/html": [
              "<style>#sk-container-id-3 {color: black;background-color: white;}#sk-container-id-3 pre{padding: 0;}#sk-container-id-3 div.sk-toggleable {background-color: white;}#sk-container-id-3 label.sk-toggleable__label {cursor: pointer;display: block;width: 100%;margin-bottom: 0;padding: 0.3em;box-sizing: border-box;text-align: center;}#sk-container-id-3 label.sk-toggleable__label-arrow:before {content: \"▸\";float: left;margin-right: 0.25em;color: #696969;}#sk-container-id-3 label.sk-toggleable__label-arrow:hover:before {color: black;}#sk-container-id-3 div.sk-estimator:hover label.sk-toggleable__label-arrow:before {color: black;}#sk-container-id-3 div.sk-toggleable__content {max-height: 0;max-width: 0;overflow: hidden;text-align: left;background-color: #f0f8ff;}#sk-container-id-3 div.sk-toggleable__content pre {margin: 0.2em;color: black;border-radius: 0.25em;background-color: #f0f8ff;}#sk-container-id-3 input.sk-toggleable__control:checked~div.sk-toggleable__content {max-height: 200px;max-width: 100%;overflow: auto;}#sk-container-id-3 input.sk-toggleable__control:checked~label.sk-toggleable__label-arrow:before {content: \"▾\";}#sk-container-id-3 div.sk-estimator input.sk-toggleable__control:checked~label.sk-toggleable__label {background-color: #d4ebff;}#sk-container-id-3 div.sk-label input.sk-toggleable__control:checked~label.sk-toggleable__label {background-color: #d4ebff;}#sk-container-id-3 input.sk-hidden--visually {border: 0;clip: rect(1px 1px 1px 1px);clip: rect(1px, 1px, 1px, 1px);height: 1px;margin: -1px;overflow: hidden;padding: 0;position: absolute;width: 1px;}#sk-container-id-3 div.sk-estimator {font-family: monospace;background-color: #f0f8ff;border: 1px dotted black;border-radius: 0.25em;box-sizing: border-box;margin-bottom: 0.5em;}#sk-container-id-3 div.sk-estimator:hover {background-color: #d4ebff;}#sk-container-id-3 div.sk-parallel-item::after {content: \"\";width: 100%;border-bottom: 1px solid gray;flex-grow: 1;}#sk-container-id-3 div.sk-label:hover label.sk-toggleable__label {background-color: #d4ebff;}#sk-container-id-3 div.sk-serial::before {content: \"\";position: absolute;border-left: 1px solid gray;box-sizing: border-box;top: 0;bottom: 0;left: 50%;z-index: 0;}#sk-container-id-3 div.sk-serial {display: flex;flex-direction: column;align-items: center;background-color: white;padding-right: 0.2em;padding-left: 0.2em;position: relative;}#sk-container-id-3 div.sk-item {position: relative;z-index: 1;}#sk-container-id-3 div.sk-parallel {display: flex;align-items: stretch;justify-content: center;background-color: white;position: relative;}#sk-container-id-3 div.sk-item::before, #sk-container-id-3 div.sk-parallel-item::before {content: \"\";position: absolute;border-left: 1px solid gray;box-sizing: border-box;top: 0;bottom: 0;left: 50%;z-index: -1;}#sk-container-id-3 div.sk-parallel-item {display: flex;flex-direction: column;z-index: 1;position: relative;background-color: white;}#sk-container-id-3 div.sk-parallel-item:first-child::after {align-self: flex-end;width: 50%;}#sk-container-id-3 div.sk-parallel-item:last-child::after {align-self: flex-start;width: 50%;}#sk-container-id-3 div.sk-parallel-item:only-child::after {width: 0;}#sk-container-id-3 div.sk-dashed-wrapped {border: 1px dashed gray;margin: 0 0.4em 0.5em 0.4em;box-sizing: border-box;padding-bottom: 0.4em;background-color: white;}#sk-container-id-3 div.sk-label label {font-family: monospace;font-weight: bold;display: inline-block;line-height: 1.2em;}#sk-container-id-3 div.sk-label-container {text-align: center;}#sk-container-id-3 div.sk-container {/* jupyter's `normalize.less` sets `[hidden] { display: none; }` but bootstrap.min.css set `[hidden] { display: none !important; }` so we also need the `!important` here to be able to override the default hidden behavior on the sphinx rendered scikit-learn.org. See: https://github.com/scikit-learn/scikit-learn/issues/21755 */display: inline-block !important;position: relative;}#sk-container-id-3 div.sk-text-repr-fallback {display: none;}</style><div id=\"sk-container-id-3\" class=\"sk-top-container\"><div class=\"sk-text-repr-fallback\"><pre>XGBRegressor(base_score=None, booster=None, callbacks=None,\n",
              "             colsample_bylevel=0.4, colsample_bynode=None, colsample_bytree=0.5,\n",
              "             device=None, early_stopping_rounds=None, enable_categorical=False,\n",
              "             eval_metric=None, feature_types=None, gamma=0.4, grow_policy=None,\n",
              "             importance_type=None, interaction_constraints=None,\n",
              "             learning_rate=0.15, max_bin=None, max_cat_threshold=None,\n",
              "             max_cat_to_onehot=None, max_delta_step=None, max_depth=4,\n",
              "             max_leaves=None, min_child_weight=1, missing=nan,\n",
              "             monotone_constraints=None, multi_strategy=None, n_estimators=150,\n",
              "             n_jobs=None, num_parallel_tree=None, random_state=None, ...)</pre><b>In a Jupyter environment, please rerun this cell to show the HTML representation or trust the notebook. <br />On GitHub, the HTML representation is unable to render, please try loading this page with nbviewer.org.</b></div><div class=\"sk-container\" hidden><div class=\"sk-item\"><div class=\"sk-estimator sk-toggleable\"><input class=\"sk-toggleable__control sk-hidden--visually\" id=\"sk-estimator-id-3\" type=\"checkbox\" checked><label for=\"sk-estimator-id-3\" class=\"sk-toggleable__label sk-toggleable__label-arrow\">XGBRegressor</label><div class=\"sk-toggleable__content\"><pre>XGBRegressor(base_score=None, booster=None, callbacks=None,\n",
              "             colsample_bylevel=0.4, colsample_bynode=None, colsample_bytree=0.5,\n",
              "             device=None, early_stopping_rounds=None, enable_categorical=False,\n",
              "             eval_metric=None, feature_types=None, gamma=0.4, grow_policy=None,\n",
              "             importance_type=None, interaction_constraints=None,\n",
              "             learning_rate=0.15, max_bin=None, max_cat_threshold=None,\n",
              "             max_cat_to_onehot=None, max_delta_step=None, max_depth=4,\n",
              "             max_leaves=None, min_child_weight=1, missing=nan,\n",
              "             monotone_constraints=None, multi_strategy=None, n_estimators=150,\n",
              "             n_jobs=None, num_parallel_tree=None, random_state=None, ...)</pre></div></div></div></div></div>"
            ]
          },
          "metadata": {},
          "execution_count": 51
        }
      ]
    },
    {
      "cell_type": "code",
      "metadata": {
        "id": "ZTfSP1foIw5g",
        "colab": {
          "base_uri": "https://localhost:8080/"
        },
        "outputId": "32cb91ff-040e-422e-8b5e-118678afa267"
      },
      "source": [
        "xg=XGBRegressor(base_score=0.5, booster='gbtree', colsample_bylevel=0.7,\n",
        "             colsample_bynode=1, colsample_bytree=0.3, gamma=0.2,\n",
        "             importance_type='gain', learning_rate=0.03, max_delta_step=0,\n",
        "             max_depth=8, min_child_weight=25, missing=None, n_estimators=800,\n",
        "             n_jobs=1, nthread=None, objective='reg:linear', random_state=0,\n",
        "             reg_alpha=0.2, reg_lambda=0.8, scale_pos_weight=1, seed=None,\n",
        "             silent=None, subsample=0.1, verbosity=1)\n",
        "x=xgr.fit(X_train,y_train)\n",
        "y1=x.predict(X_test)\n",
        "r2_score(y_test,y1)"
      ],
      "execution_count": null,
      "outputs": [
        {
          "output_type": "execute_result",
          "data": {
            "text/plain": [
              "0.8378748583617237"
            ]
          },
          "metadata": {},
          "execution_count": 52
        }
      ]
    },
    {
      "cell_type": "code",
      "metadata": {
        "id": "ywJiNmSwPVVq"
      },
      "source": [
        "r=RandomForestRegressor()\n",
        "params_rf={\n",
        "\"n_estimators\"     : [50, 100, 150, 200, 500, 800,1000,1500] ,\n",
        " \"max_depth\"        : [ 3, 4, 5, 6, 8, 10, 12, 15,20,25]}"
      ],
      "execution_count": null,
      "outputs": []
    },
    {
      "cell_type": "code",
      "metadata": {
        "id": "zyNCyJ214Oa8"
      },
      "source": [
        "random_search=RandomizedSearchCV(rf,param_distributions=params_rf,n_iter=10,n_jobs=-1,cv=5,verbose=3)"
      ],
      "execution_count": null,
      "outputs": []
    },
    {
      "cell_type": "code",
      "metadata": {
        "id": "zf50i-ZK4OTn",
        "colab": {
          "base_uri": "https://localhost:8080/"
        },
        "outputId": "74462f0c-c68e-4c70-84cd-d6d63ae241f8"
      },
      "source": [
        "#random_search = RandomizedSearchCV(rf, param_distributions=params_rf, n_iter=10, n_jobs=-1, cv=5, verbose=3)\n",
        "\n",
        "# Start timing\n",
        "start_time = datetime.now()\n",
        "\n",
        "# Fit RandomizedSearchCV on training data\n",
        "random_search.fit(X_train, y_train)\n",
        "\n",
        "# End timing\n",
        "print('Elapsed time:', datetime.now() - start_time)\n",
        "\n",
        "# Print best parameters found\n",
        "print('Best parameters:', random_search.best_params_)"
      ],
      "execution_count": null,
      "outputs": [
        {
          "output_type": "stream",
          "name": "stdout",
          "text": [
            "Fitting 5 folds for each of 10 candidates, totalling 50 fits\n",
            "Elapsed time: 0:00:52.362419\n",
            "Best parameters: {'subsample': 0.4, 'reg_lambda': 0.8, 'reg_alpha': 0.1, 'n_estimators': 150, 'min_child_weight': 20, 'max_depth': 3, 'learning_rate': 0.2, 'gamma': 0.3, 'colsample_bytree': 0.5, 'colsample_bylevel': 0.3}\n"
          ]
        }
      ]
    },
    {
      "cell_type": "code",
      "metadata": {
        "id": "3eMs-KWU4OI1",
        "colab": {
          "base_uri": "https://localhost:8080/",
          "height": 230
        },
        "outputId": "0aa50f6e-900b-4564-f094-ba9c65446b4c"
      },
      "source": [
        "random_search.best_estimator_"
      ],
      "execution_count": null,
      "outputs": [
        {
          "output_type": "execute_result",
          "data": {
            "text/plain": [
              "XGBRegressor(base_score=None, booster=None, callbacks=None,\n",
              "             colsample_bylevel=0.3, colsample_bynode=None, colsample_bytree=0.5,\n",
              "             device=None, early_stopping_rounds=None, enable_categorical=False,\n",
              "             eval_metric=None, feature_types=None, gamma=0.3, grow_policy=None,\n",
              "             importance_type=None, interaction_constraints=None,\n",
              "             learning_rate=0.2, max_bin=None, max_cat_threshold=None,\n",
              "             max_cat_to_onehot=None, max_delta_step=None, max_depth=3,\n",
              "             max_leaves=None, min_child_weight=20, missing=nan,\n",
              "             monotone_constraints=None, multi_strategy=None, n_estimators=150,\n",
              "             n_jobs=None, num_parallel_tree=None, random_state=None, ...)"
            ],
            "text/html": [
              "<style>#sk-container-id-4 {color: black;background-color: white;}#sk-container-id-4 pre{padding: 0;}#sk-container-id-4 div.sk-toggleable {background-color: white;}#sk-container-id-4 label.sk-toggleable__label {cursor: pointer;display: block;width: 100%;margin-bottom: 0;padding: 0.3em;box-sizing: border-box;text-align: center;}#sk-container-id-4 label.sk-toggleable__label-arrow:before {content: \"▸\";float: left;margin-right: 0.25em;color: #696969;}#sk-container-id-4 label.sk-toggleable__label-arrow:hover:before {color: black;}#sk-container-id-4 div.sk-estimator:hover label.sk-toggleable__label-arrow:before {color: black;}#sk-container-id-4 div.sk-toggleable__content {max-height: 0;max-width: 0;overflow: hidden;text-align: left;background-color: #f0f8ff;}#sk-container-id-4 div.sk-toggleable__content pre {margin: 0.2em;color: black;border-radius: 0.25em;background-color: #f0f8ff;}#sk-container-id-4 input.sk-toggleable__control:checked~div.sk-toggleable__content {max-height: 200px;max-width: 100%;overflow: auto;}#sk-container-id-4 input.sk-toggleable__control:checked~label.sk-toggleable__label-arrow:before {content: \"▾\";}#sk-container-id-4 div.sk-estimator input.sk-toggleable__control:checked~label.sk-toggleable__label {background-color: #d4ebff;}#sk-container-id-4 div.sk-label input.sk-toggleable__control:checked~label.sk-toggleable__label {background-color: #d4ebff;}#sk-container-id-4 input.sk-hidden--visually {border: 0;clip: rect(1px 1px 1px 1px);clip: rect(1px, 1px, 1px, 1px);height: 1px;margin: -1px;overflow: hidden;padding: 0;position: absolute;width: 1px;}#sk-container-id-4 div.sk-estimator {font-family: monospace;background-color: #f0f8ff;border: 1px dotted black;border-radius: 0.25em;box-sizing: border-box;margin-bottom: 0.5em;}#sk-container-id-4 div.sk-estimator:hover {background-color: #d4ebff;}#sk-container-id-4 div.sk-parallel-item::after {content: \"\";width: 100%;border-bottom: 1px solid gray;flex-grow: 1;}#sk-container-id-4 div.sk-label:hover label.sk-toggleable__label {background-color: #d4ebff;}#sk-container-id-4 div.sk-serial::before {content: \"\";position: absolute;border-left: 1px solid gray;box-sizing: border-box;top: 0;bottom: 0;left: 50%;z-index: 0;}#sk-container-id-4 div.sk-serial {display: flex;flex-direction: column;align-items: center;background-color: white;padding-right: 0.2em;padding-left: 0.2em;position: relative;}#sk-container-id-4 div.sk-item {position: relative;z-index: 1;}#sk-container-id-4 div.sk-parallel {display: flex;align-items: stretch;justify-content: center;background-color: white;position: relative;}#sk-container-id-4 div.sk-item::before, #sk-container-id-4 div.sk-parallel-item::before {content: \"\";position: absolute;border-left: 1px solid gray;box-sizing: border-box;top: 0;bottom: 0;left: 50%;z-index: -1;}#sk-container-id-4 div.sk-parallel-item {display: flex;flex-direction: column;z-index: 1;position: relative;background-color: white;}#sk-container-id-4 div.sk-parallel-item:first-child::after {align-self: flex-end;width: 50%;}#sk-container-id-4 div.sk-parallel-item:last-child::after {align-self: flex-start;width: 50%;}#sk-container-id-4 div.sk-parallel-item:only-child::after {width: 0;}#sk-container-id-4 div.sk-dashed-wrapped {border: 1px dashed gray;margin: 0 0.4em 0.5em 0.4em;box-sizing: border-box;padding-bottom: 0.4em;background-color: white;}#sk-container-id-4 div.sk-label label {font-family: monospace;font-weight: bold;display: inline-block;line-height: 1.2em;}#sk-container-id-4 div.sk-label-container {text-align: center;}#sk-container-id-4 div.sk-container {/* jupyter's `normalize.less` sets `[hidden] { display: none; }` but bootstrap.min.css set `[hidden] { display: none !important; }` so we also need the `!important` here to be able to override the default hidden behavior on the sphinx rendered scikit-learn.org. See: https://github.com/scikit-learn/scikit-learn/issues/21755 */display: inline-block !important;position: relative;}#sk-container-id-4 div.sk-text-repr-fallback {display: none;}</style><div id=\"sk-container-id-4\" class=\"sk-top-container\"><div class=\"sk-text-repr-fallback\"><pre>XGBRegressor(base_score=None, booster=None, callbacks=None,\n",
              "             colsample_bylevel=0.3, colsample_bynode=None, colsample_bytree=0.5,\n",
              "             device=None, early_stopping_rounds=None, enable_categorical=False,\n",
              "             eval_metric=None, feature_types=None, gamma=0.3, grow_policy=None,\n",
              "             importance_type=None, interaction_constraints=None,\n",
              "             learning_rate=0.2, max_bin=None, max_cat_threshold=None,\n",
              "             max_cat_to_onehot=None, max_delta_step=None, max_depth=3,\n",
              "             max_leaves=None, min_child_weight=20, missing=nan,\n",
              "             monotone_constraints=None, multi_strategy=None, n_estimators=150,\n",
              "             n_jobs=None, num_parallel_tree=None, random_state=None, ...)</pre><b>In a Jupyter environment, please rerun this cell to show the HTML representation or trust the notebook. <br />On GitHub, the HTML representation is unable to render, please try loading this page with nbviewer.org.</b></div><div class=\"sk-container\" hidden><div class=\"sk-item\"><div class=\"sk-estimator sk-toggleable\"><input class=\"sk-toggleable__control sk-hidden--visually\" id=\"sk-estimator-id-4\" type=\"checkbox\" checked><label for=\"sk-estimator-id-4\" class=\"sk-toggleable__label sk-toggleable__label-arrow\">XGBRegressor</label><div class=\"sk-toggleable__content\"><pre>XGBRegressor(base_score=None, booster=None, callbacks=None,\n",
              "             colsample_bylevel=0.3, colsample_bynode=None, colsample_bytree=0.5,\n",
              "             device=None, early_stopping_rounds=None, enable_categorical=False,\n",
              "             eval_metric=None, feature_types=None, gamma=0.3, grow_policy=None,\n",
              "             importance_type=None, interaction_constraints=None,\n",
              "             learning_rate=0.2, max_bin=None, max_cat_threshold=None,\n",
              "             max_cat_to_onehot=None, max_delta_step=None, max_depth=3,\n",
              "             max_leaves=None, min_child_weight=20, missing=nan,\n",
              "             monotone_constraints=None, multi_strategy=None, n_estimators=150,\n",
              "             n_jobs=None, num_parallel_tree=None, random_state=None, ...)</pre></div></div></div></div></div>"
            ]
          },
          "metadata": {},
          "execution_count": 55
        }
      ]
    },
    {
      "cell_type": "code",
      "metadata": {
        "id": "qIZFkzGW4OH5",
        "colab": {
          "base_uri": "https://localhost:8080/"
        },
        "outputId": "070ebf58-c23b-4bdf-e26f-693ca530d56d"
      },
      "source": [
        "sv = SVR(gamma='auto', C=100, epsilon=0.4)\n",
        "\n",
        "# Fit SVR model to training data\n",
        "sv.fit(X_train, y_train)\n",
        "\n",
        "# Predict using SVR model\n",
        "y_pred_svr = sv.predict(X_test)\n",
        "\n",
        "# Calculate R-squared score\n",
        "r2_svr = r2_score(y_test, y_pred_svr)\n",
        "\n",
        "print('R2 score for SVR:', r2_svr)"
      ],
      "execution_count": null,
      "outputs": [
        {
          "output_type": "stream",
          "name": "stdout",
          "text": [
            "R2 score for SVR: 0.8896895156992954\n"
          ]
        }
      ]
    }
  ]
}